{
  "nbformat": 4,
  "nbformat_minor": 0,
  "metadata": {
    "colab": {
      "name": "Untitled72.ipynb",
      "provenance": [],
      "authorship_tag": "ABX9TyNb8gR8laFcrOFDZwXjM/zw",
      "include_colab_link": true
    },
    "kernelspec": {
      "name": "python3",
      "display_name": "Python 3"
    },
    "language_info": {
      "name": "python"
    }
  },
  "cells": [
    {
      "cell_type": "markdown",
      "metadata": {
        "id": "view-in-github",
        "colab_type": "text"
      },
      "source": [
        "<a href=\"https://colab.research.google.com/github/munmoom/vacation/blob/main/1417.ipynb\" target=\"_parent\"><img src=\"https://colab.research.google.com/assets/colab-badge.svg\" alt=\"Open In Colab\"/></a>"
      ]
    },
    {
      "cell_type": "code",
      "execution_count": 2,
      "metadata": {
        "id": "efioXRP1rgZF"
      },
      "outputs": [],
      "source": [
        "i = 11.2\n",
        "e = 11.7\n",
        "i = int(i)\n",
        "e = int(e)"
      ]
    },
    {
      "cell_type": "code",
      "source": [
        "i"
      ],
      "metadata": {
        "colab": {
          "base_uri": "https://localhost:8080/"
        },
        "id": "gA9rlgebrogm",
        "outputId": "64ceec7f-d2fe-4db0-c8c3-cdce4dd06051"
      },
      "execution_count": 3,
      "outputs": [
        {
          "output_type": "execute_result",
          "data": {
            "text/plain": [
              "11"
            ]
          },
          "metadata": {},
          "execution_count": 3
        }
      ]
    },
    {
      "cell_type": "code",
      "source": [
        "e"
      ],
      "metadata": {
        "colab": {
          "base_uri": "https://localhost:8080/"
        },
        "id": "YpuIeC3UrpYn",
        "outputId": "36f65092-d997-41d2-b873-c7f2092b7b78"
      },
      "execution_count": 4,
      "outputs": [
        {
          "output_type": "execute_result",
          "data": {
            "text/plain": [
              "11"
            ]
          },
          "metadata": {},
          "execution_count": 4
        }
      ]
    },
    {
      "cell_type": "code",
      "source": [
        "li = ['e','e','r','t']\n",
        "li = set(li)\n",
        "li = list(li)\n",
        "li"
      ],
      "metadata": {
        "colab": {
          "base_uri": "https://localhost:8080/"
        },
        "id": "qBMR6VTv11aq",
        "outputId": "b0aef7c2-bc29-4718-9201-498b946e40d2"
      },
      "execution_count": 9,
      "outputs": [
        {
          "output_type": "execute_result",
          "data": {
            "text/plain": [
              "['t', 'e', 'r']"
            ]
          },
          "metadata": {},
          "execution_count": 9
        }
      ]
    },
    {
      "cell_type": "code",
      "source": [
        "N = int(input())\n",
        "\n",
        "if N == 1:\n",
        "  print('0')\n",
        "\n",
        "else:\n",
        " vote = []\n",
        " for i in range(0,N):\n",
        "   vote.append(int(input()))\n",
        "   \n",
        " Da = vote[0]\n",
        " vote.pop(0)\n",
        " \n",
        " vote = set(vote)\n",
        " vote = list(vote)\n",
        " \n",
        " vote.sort(reverse=True)\n",
        " \n",
        " max = vote[0]\n",
        " \n",
        " if Da > max:\n",
        "   print('0')\n",
        " elif Da == max:\n",
        "   print('1')\n",
        " else:\n",
        "  final = 0\n",
        "  while 1:\n",
        "   sum = Da + max\n",
        "   new = sum//2 + 1\n",
        "   vote.pop(0)\n",
        "   max = vote[0]\n",
        "   if new > max:\n",
        "     print(final+new-Da)\n",
        "     break\n",
        "   elif new == max:\n",
        "     print(final+new-Da+1)\n",
        "     break\n",
        "   else:\n",
        "     final += new-Da\n",
        "     Da = new\n",
        "     continue"
      ],
      "metadata": {
        "colab": {
          "base_uri": "https://localhost:8080/"
        },
        "id": "VoM-0-wH5d5u",
        "outputId": "a2c8d193-bf33-40a1-e2f7-163d05879693"
      },
      "execution_count": 26,
      "outputs": [
        {
          "output_type": "stream",
          "name": "stdout",
          "text": [
            "5\n",
            "5\n",
            "10\n",
            "7\n",
            "3\n",
            "8\n",
            "4\n"
          ]
        }
      ]
    },
    {
      "cell_type": "code",
      "source": [
        "i = 1\n",
        "e = 2\n",
        "i = e\n",
        "i"
      ],
      "metadata": {
        "colab": {
          "base_uri": "https://localhost:8080/"
        },
        "id": "wJ1wWNx97t_r",
        "outputId": "38bf597b-ff6b-489e-eb81-ab648a06a4be"
      },
      "execution_count": 15,
      "outputs": [
        {
          "output_type": "execute_result",
          "data": {
            "text/plain": [
              "2"
            ]
          },
          "metadata": {},
          "execution_count": 15
        }
      ]
    }
  ]
}