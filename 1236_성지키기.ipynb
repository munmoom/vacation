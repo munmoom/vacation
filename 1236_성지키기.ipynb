{
  "nbformat": 4,
  "nbformat_minor": 0,
  "metadata": {
    "colab": {
      "provenance": [],
      "authorship_tag": "ABX9TyOEXJ88swjxgXdATbcxK4jc",
      "include_colab_link": true
    },
    "kernelspec": {
      "name": "python3",
      "display_name": "Python 3"
    },
    "language_info": {
      "name": "python"
    }
  },
  "cells": [
    {
      "cell_type": "markdown",
      "metadata": {
        "id": "view-in-github",
        "colab_type": "text"
      },
      "source": [
        "<a href=\"https://colab.research.google.com/github/munmoom/vacation/blob/main/1236_%EC%84%B1%EC%A7%80%ED%82%A4%EA%B8%B0.ipynb\" target=\"_parent\"><img src=\"https://colab.research.google.com/assets/colab-badge.svg\" alt=\"Open In Colab\"/></a>"
      ]
    },
    {
      "cell_type": "code",
      "execution_count": null,
      "metadata": {
        "id": "GDQKy3flVOmL"
      },
      "outputs": [],
      "source": [
        "def howmanyguard():\n",
        "  row = 0\n",
        "  c = 0\n",
        "  list1 = []\n",
        "  m = -1\n",
        "  for i in range(N):\n",
        "    a = input()\n",
        "    for k in a:\n",
        "      m +=1\n",
        "      if k  == 'X':\n",
        "        c+=1:\n",
        "        list1.append(m)\n",
        "      if c == 0:\n",
        "        row +=1\n",
        "\n",
        "  column = M - len(list1)\n",
        "  guard = row if row>=column else column\n",
        "  return guard"
      ]
    }
  ]
}